{
 "cells": [
  {
   "cell_type": "code",
   "execution_count": null,
   "id": "99906945",
   "metadata": {},
   "outputs": [],
   "source": [
    "# Dependencies\n",
    "from splinter import Browser\n",
    "from bs4 import BeautifulSoup as soup\n",
    "from webdriver_manager.chrome import ChromeDriverManager\n",
    "import pandas as pd\n",
    "import numpy as np\n",
    "import requests"
   ]
  },
  {
   "cell_type": "code",
   "execution_count": null,
   "id": "1cb740b0",
   "metadata": {},
   "outputs": [],
   "source": [
    "# set path\n",
    "exec_path = {'executable_path': ChromeDriverManager().install()}\n",
    "browser = Browser('chrome', **exec_path, headless=False)"
   ]
  },
  {
   "cell_type": "code",
   "execution_count": null,
   "id": "48e2f19f",
   "metadata": {},
   "outputs": [],
   "source": [
    "# visit the mars NASA site\n",
    "url = 'https://redplanetscience.com'\n",
    "browser.visit(url)\n",
    "# Optional delay for loading the page\n",
    "browser.is_element_present_by_css('div.list_text', wait_time=1)"
   ]
  },
  {
   "cell_type": "code",
   "execution_count": null,
   "id": "8047d6de",
   "metadata": {},
   "outputs": [],
   "source": [
    "html = browser.html\n",
    "red_soup = soup(html, 'html.parser')\n",
    "slide_elem = red_soup.select_one('div.list_text')"
   ]
  },
  {
   "cell_type": "code",
   "execution_count": null,
   "id": "2edabb19",
   "metadata": {},
   "outputs": [],
   "source": [
    "news_title1 = slide_elem.find('div', class_='content_title').get_text()\n",
    "news_title1"
   ]
  },
  {
   "cell_type": "code",
   "execution_count": null,
   "id": "727c5137",
   "metadata": {},
   "outputs": [],
   "source": [
    "summary = slide_elem.find('div', class_='article_teaser_body').get_text()\n",
    "summary"
   ]
  },
  {
   "cell_type": "markdown",
   "id": "364561d1",
   "metadata": {},
   "source": [
    "## Scrape the featured image\n"
   ]
  },
  {
   "cell_type": "code",
   "execution_count": null,
   "id": "cd5d5946",
   "metadata": {},
   "outputs": [],
   "source": [
    "# Visit URL\n",
    "url = 'https://spaceimages-mars.com'\n",
    "browser.visit(url)"
   ]
  },
  {
   "cell_type": "code",
   "execution_count": null,
   "id": "23bb44c2",
   "metadata": {},
   "outputs": [],
   "source": [
    "full_feature_img = browser.find_by_tag('button')[1]\n",
    "full_feature_img.click()"
   ]
  },
  {
   "cell_type": "code",
   "execution_count": null,
   "id": "584682a9",
   "metadata": {},
   "outputs": [],
   "source": [
    "html = browser.html\n",
    "img_soup = soup(html, 'html.parser')"
   ]
  },
  {
   "cell_type": "code",
   "execution_count": null,
   "id": "e46655d0",
   "metadata": {},
   "outputs": [],
   "source": [
    "# Find the relative image url\n",
    "img_url_rel = img_soup.find('img', class_='fancybox-image').get('src')\n",
    "img_url_rel"
   ]
  },
  {
   "cell_type": "code",
   "execution_count": null,
   "id": "3c2bc77c",
   "metadata": {},
   "outputs": [],
   "source": [
    "# url above is only partial; need to add it onto the base url and save it as a variable\n",
    "img_url = f\"https://spaceimages-mars.com/{img_url_rel}\"\n",
    "img_url"
   ]
  },
  {
   "cell_type": "code",
   "execution_count": null,
   "id": "6fc77614",
   "metadata": {},
   "outputs": [],
   "source": [
    "# read in facts about Mars with pd.read_html\n",
    "df = pd.read_html('https://galaxyfacts-mars.com/')[0]\n",
    "df.columns = ('description','Mars','Earth')\n",
    "df.set_index('description', inplace=True)\n",
    "df"
   ]
  },
  {
   "cell_type": "code",
   "execution_count": null,
   "id": "fd8c3fa1",
   "metadata": {},
   "outputs": [],
   "source": [
    "# turn the pulled table back into HTML for coding\n",
    "df.to_html()"
   ]
  },
  {
   "cell_type": "code",
   "execution_count": null,
   "id": "4cb3ed2e",
   "metadata": {},
   "outputs": [],
   "source": []
  }
 ],
 "metadata": {
  "kernelspec": {
   "display_name": "Python 3 (ipykernel)",
   "language": "python",
   "name": "python3"
  },
  "language_info": {
   "codemirror_mode": {
    "name": "ipython",
    "version": 3
   },
   "file_extension": ".py",
   "mimetype": "text/x-python",
   "name": "python",
   "nbconvert_exporter": "python",
   "pygments_lexer": "ipython3",
   "version": "3.9.7"
  }
 },
 "nbformat": 4,
 "nbformat_minor": 5
}
